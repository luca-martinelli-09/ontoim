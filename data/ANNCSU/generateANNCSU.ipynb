{
 "cells": [
  {
   "cell_type": "markdown",
   "metadata": {},
   "source": [
    "# ANNCSU\n",
    "\n",
    "Generate a Graph for ANNCSU"
   ]
  },
  {
   "cell_type": "markdown",
   "metadata": {},
   "source": [
    "### Imports\n",
    "\n",
    "Into utils are stored constants for namespaces, vocabularies and common functions"
   ]
  },
  {
   "cell_type": "code",
   "execution_count": null,
   "metadata": {},
   "outputs": [],
   "source": [
    "# Set autoreload for imported packages\n",
    "\n",
    "%load_ext autoreload\n",
    "%autoreload 2\n"
   ]
  },
  {
   "cell_type": "code",
   "execution_count": null,
   "metadata": {},
   "outputs": [],
   "source": [
    "# Import utils\n",
    "import os\n",
    "import sys\n",
    "\n",
    "rootFolder = os.path.abspath(\n",
    "    os.path.dirname(\n",
    "        os.path.dirname(\n",
    "            os.path.abspath(\"__file__\"))))\n",
    "\n",
    "sys.path.append(rootFolder)\n",
    "\n",
    "from utils import *"
   ]
  },
  {
   "cell_type": "code",
   "execution_count": null,
   "metadata": {},
   "outputs": [],
   "source": [
    "# Imports other required libraries\n",
    "\n",
    "import pandas as pd\n",
    "from pykml import parser\n",
    "\n",
    "from rdflib import Literal, RDF, URIRef\n",
    "\n",
    "from rdflib.namespace import XSD, DC, RDF, RDFS, SKOS\n"
   ]
  },
  {
   "cell_type": "code",
   "execution_count": null,
   "metadata": {},
   "outputs": [],
   "source": [
    "config = getConfig(\"../conf.ini\")\n",
    "\n",
    "BASE_URL = config.get(\"API\", \"base_url\")"
   ]
  },
  {
   "cell_type": "markdown",
   "metadata": {},
   "source": [
    "## Graph creation"
   ]
  },
  {
   "cell_type": "code",
   "execution_count": null,
   "metadata": {},
   "outputs": [],
   "source": [
    "g = createGraph()\n",
    "\n",
    "g.bind(\"clv\", CLV)\n",
    "g.bind(\"anncsu\", ANNCSU)\n",
    "g.bind(\"cities\", CITIES)"
   ]
  },
  {
   "cell_type": "code",
   "execution_count": null,
   "metadata": {},
   "outputs": [],
   "source": [
    "# Create ANNCSU endpoint, with information about the dataset\n",
    "\n",
    "ANNCSUData = URIRef(ANNCSU)\n",
    "\n",
    "g.add((ANNCSUData, RDF.type, SKOS.ConceptScheme))\n",
    "g.add((ANNCSUData, RDFS.label, Literal(\"Anagrafe nazionale numeri civici e strade urbane\", lang=\"it\")))\n",
    "g.add((ANNCSUData, RDFS.label, Literal(\"Civic Addressing and Street Naming\", lang=\"en\")))\n",
    "g.add((ANNCSUData, DC.creator, URIRef(\"https://w3id.org/people/lucamartinelli\")))"
   ]
  },
  {
   "cell_type": "code",
   "execution_count": null,
   "metadata": {},
   "outputs": [],
   "source": [
    "# Get the data\n",
    "\n",
    "datasetID = config.get(\"ANNCSU\", \"dataset\")\n",
    "\n",
    "# ANNCSU streets\n",
    "anncsuAddresses = getOpenData(\n",
    "    BASE_URL, datasetID, config.get(\"ANNCSU\", \"streets\"))\n",
    "anncsuAddresses.set_index(\"PROGR_NAZIONALE\", inplace=True)\n",
    "\n",
    "# ANNCSU civic numbers\n",
    "anncsuCivics = getOpenData(BASE_URL, datasetID, config.get(\"ANNCSU\", \"civics\"))\n",
    "anncsuCivics.set_index(\"PROGR_CIVICO\", inplace=True)\n",
    "\n",
    "# ISTAT census sections\n",
    "censusSectionsObj = getOpenData(BASE_URL,\n",
    "                                datasetID, config.get(\"ANNCSU\", \"census_sections\"), rawData=True)\n",
    "\n",
    "# Since this is a KML file, need to be parsed by pykml\n",
    "censusSections = parser.parse(censusSectionsObj)\n"
   ]
  },
  {
   "cell_type": "code",
   "execution_count": null,
   "metadata": {},
   "outputs": [],
   "source": [
    "# Generate dataframe for localities (Address Areas)\n",
    "localitiesDF = pd.DataFrame(\n",
    "    anncsuAddresses[\"LOCALITA'\"]).drop_duplicates().reset_index(drop=True)\n"
   ]
  },
  {
   "cell_type": "code",
   "execution_count": null,
   "metadata": {},
   "outputs": [],
   "source": [
    "# Add localities to graph\n",
    "for i, locality in localitiesDF.iterrows():\n",
    "  localityName = standardizeName(locality[\"LOCALITA'\"])\n",
    "  # AddressArea ref = loc-locality-name\n",
    "  AddressArea = URIRef(ANNCSU[\"loc-\" + genNameForID(localityName)])\n",
    "  \n",
    "  # Create AddressArea and put into ANNCSU scheme\n",
    "  g.add((AddressArea, RDF.type, CLV.AddressArea))\n",
    "  g.add((AddressArea, SKOS.inScheme, URIRef(ANNCSU)))\n",
    "  g.add((AddressArea, DC.title, Literal(localityName, datatype=XSD.string)))\n",
    "  \n",
    "  # Add attributes\n",
    "  g.add((AddressArea, L0[\"name\"], Literal(localityName, datatype=XSD.string)))\n"
   ]
  },
  {
   "cell_type": "code",
   "execution_count": null,
   "metadata": {},
   "outputs": [],
   "source": [
    "# Add census sections to graph\n",
    "for pm in censusSections.getroot().Document.Folder.Placemark:\n",
    "  # ISTAT census sections are in the form {city_code}{census_number}, I need only the census number\n",
    "  censID = int(str(pm.name)[6::])\n",
    "  # Get the polygon of census section's boundaries\n",
    "  polygon = pm.Polygon.outerBoundaryIs.LinearRing.coordinates\n",
    "\n",
    "  # Create census section and geometry refs (cs-id, gsc-id)\n",
    "  CensusSection = URIRef(ANNCSU[\"cs-\" + str(censID)])\n",
    "  Geometry = URIRef(ANNCSU[\"gsc-\" + str(censID)])\n",
    "\n",
    "  # Create geometry node\n",
    "  g.add((Geometry, RDF.type, CLV.Geometry))\n",
    "  g.add((Geometry, SKOS.inScheme, URIRef(ANNCSU)))\n",
    "  \n",
    "  # Geometry type Polygon and serialization the polygon coordinates\n",
    "  g.add((Geometry, CLV[\"hasGeometryType\"], URIRef(CLV[\"Polygon\"])))\n",
    "  g.add((Geometry, CLV[\"serialization\"], Literal(str(polygon).replace(\" \", \"\\n\"), datatype=XSD.string)))\n",
    "\n",
    "  # Add titles\n",
    "  g.add((Geometry, DC.title, Literal(\"Sezione di censimento \" + str(censID), lang=\"it\")))\n",
    "  g.add((Geometry, DC.title, Literal(\"Census section \" + str(censID), lang=\"en\")))\n",
    "  g.add((CensusSection, DC.title, Literal(\"Sezione di censimento \" + str(censID), lang=\"it\")))\n",
    "  g.add((CensusSection, DC.title, Literal(\"Census section \" + str(censID), lang=\"en\")))\n",
    "\n",
    "  # Create census section node\n",
    "  g.add((CensusSection, RDF.type, CLV.CensusSection))\n",
    "  g.add((CensusSection, SKOS.inScheme, URIRef(ANNCSU)))\n",
    "\n",
    "  # Add properties to Census Section\n",
    "  g.add((CensusSection, CLV[\"hasGeometry\"], Geometry))"
   ]
  },
  {
   "cell_type": "code",
   "execution_count": null,
   "metadata": {},
   "outputs": [],
   "source": [
    "# Add street toponyms to graph\n",
    "for streetID, address in anncsuAddresses.iterrows():\n",
    "    # DUG is Denominazione Urbanistica Generica (Via, Piazza, etc...)\n",
    "    dugName = standardizeName(address[\"DUG\"])\n",
    "    # The street name\n",
    "    streetName = standardizeName(address[\"DENOM_COMPLETA\"])\n",
    "\n",
    "    # Create street ref (st-streetID), where streetID is PROGR_NAZIONALE\n",
    "    StreetToponym = URIRef(ANNCSU[\"st-\" + str(streetID)])\n",
    "\n",
    "    # Full name of the street (DUG + DENOM)\n",
    "    fullName = \"{} {}\".format(\n",
    "        standardizeName(address[\"DUG\"]),\n",
    "        standardizeName(address[\"DENOM_COMPLETA\"])\n",
    "    )\n",
    "\n",
    "    # Create StreetToponym node\n",
    "    g.add((StreetToponym, RDF.type, CLV.StreetToponym))\n",
    "    g.add((StreetToponym, SKOS.inScheme, URIRef(ANNCSU)))\n",
    "    g.add((StreetToponym, DC.title, Literal(fullName, datatype=XSD.string)))\n",
    "\n",
    "    # Add attributes\n",
    "    g.add((StreetToponym, CLV[\"toponymQualifier\"],\n",
    "           Literal(dugName, datatype=XSD.string)))\n",
    "    g.add((StreetToponym, CLV[\"officialStreetName\"],\n",
    "          Literal(streetName, datatype=XSD.string)))"
   ]
  },
  {
   "cell_type": "code",
   "execution_count": null,
   "metadata": {},
   "outputs": [],
   "source": [
    "# Add addresses to graph\n",
    "for civicID, civic in anncsuCivics.iterrows():\n",
    "    # Civic attributes\n",
    "    civicNumber = civic[\"CIVICO\"]\n",
    "    civicExponent = civic[\"ESPONENTE\"]\n",
    "    civicPeculiarity = civic[\"SPECIFICITA\"]\n",
    "    civicMeter = civic[\"SISTEMA_METRICO\"]\n",
    "    streetID = civic[\"PROGR_NAZIONALE\"]\n",
    "\n",
    "    # Civic full name (eg: 10/A)\n",
    "    civicFullName = \"{}{}{}{}\".format(\n",
    "        civicNumber if not pd.isna(civicNumber) else \"\",\n",
    "        \"/\" + civicExponent if not pd.isna(civicExponent) else \"\",\n",
    "        civicMeter if not pd.isna(civicMeter) else \"\",\n",
    "        \" \" + civicPeculiarity if not pd.isna(civicPeculiarity) else \"\",\n",
    "    )\n",
    "\n",
    "    # Get address information from streetID\n",
    "    address = anncsuAddresses.loc[streetID]\n",
    "\n",
    "    # PostCode from configuration\n",
    "    postCode = config.get(\"ANNCSU\", \"postCode\")\n",
    "\n",
    "    # Get census ref\n",
    "    censID = int(civic[\"SEZIONE_DI_CENSIMENTO\"])\n",
    "    CensusSection = URIRef(ANNCSU[\"cs-\" + str(censID)])\n",
    "\n",
    "    # Get Street Toponym ref\n",
    "    StreetToponym = URIRef(ANNCSU[\"st-\" + str(streetID)])\n",
    "\n",
    "    # Create civic number ref (cn-civicID)\n",
    "    CivicNumbering = URIRef(ANNCSU[\"cn-\" + str(civicID)])\n",
    "\n",
    "    # Get address coordinates\n",
    "    longitude = civic[\"COORDINATA_X\"]\n",
    "    latitude = civic[\"COORDINATA_Y\"]\n",
    "    altitude = civic[\"COORDINATA_Z\"]\n",
    "\n",
    "    # Get locality ref from address\n",
    "    localityName = standardizeName(address[\"LOCALITA'\"])\n",
    "    AddressArea = URIRef(ANNCSU[\"loc-\" + genNameForID(localityName)])\n",
    "\n",
    "    # Create full name (dug street name, civic - postCode, locality)\n",
    "    fullName = \"{} {}, {} - {}, {}\".format(\n",
    "        standardizeName(address[\"DUG\"]),\n",
    "        standardizeName(address[\"DENOM_COMPLETA\"]),\n",
    "        civicFullName, postCode, localityName\n",
    "    )\n",
    "\n",
    "    # Create CivicNumbering node\n",
    "    g.add((CivicNumbering, RDF.type, CLV.CivicNumbering))\n",
    "    g.add((CivicNumbering, SKOS.inScheme, URIRef(ANNCSU)))\n",
    "    g.add((CivicNumbering, DC.title, Literal(civicFullName, datatype=XSD.string)))\n",
    "\n",
    "    # Add attributes\n",
    "    if not pd.isna(civicNumber):\n",
    "        g.add((CivicNumbering, CLV[\"streetNumber\"],\n",
    "              Literal(civicNumber, datatype=XSD.int)))\n",
    "\n",
    "    if not pd.isna(civicExponent):\n",
    "        g.add((CivicNumbering, CLV[\"exponent\"],\n",
    "              Literal(civicExponent, datatype=XSD.string)))\n",
    "\n",
    "    if not pd.isna(civicPeculiarity):\n",
    "        g.add((CivicNumbering, CLV[\"peculiarity\"],\n",
    "               Literal(civicExponent, datatype=XSD.string)))\n",
    "\n",
    "    if not pd.isna(civicMeter):\n",
    "        g.add((CivicNumbering, CLV[\"exponent\"],\n",
    "              Literal(civicMeter, datatype=XSD.int)))\n",
    "\n",
    "    # Create final Address ref\n",
    "    Address = URIRef(ANNCSU[\"ad-\" + str(streetID) + \"-\" + str(civicID)])\n",
    "\n",
    "    # Create Address node\n",
    "    g.add((Address, RDF.type, CLV.Address))\n",
    "    g.add((Address, SKOS.inScheme, URIRef(ANNCSU)))\n",
    "    g.add((Address, DC.title, Literal(fullName, datatype=XSD.string)))\n",
    "\n",
    "    # Set Address attributes\n",
    "    g.add((Address, CLV[\"hasStreetToponym\"], StreetToponym))\n",
    "    g.add((Address, CLV[\"hasNumber\"], CivicNumbering))\n",
    "    g.add((Address, CLV[\"hasCensusSection\"], CensusSection))\n",
    "    g.add((Address, CLV[\"hasAddressArea\"], AddressArea))\n",
    "\n",
    "    # Create geometry for Address with geographic positioning\n",
    "    if not pd.isna(longitude) and not pd.isna(latitude):\n",
    "        Geometry = URIRef(ANNCSU[\"gcn-\" + str(civicID)])\n",
    "\n",
    "        g.add((Geometry, RDF.type, CLV.Geometry))\n",
    "        g.add((Geometry, SKOS.inScheme, URIRef(ANNCSU)))\n",
    "        g.add((Geometry, DC.title, Literal(fullName, datatype=XSD.string)))\n",
    "\n",
    "        # Set the poing\n",
    "        g.add((Geometry, CLV[\"hasGeometryType\"], URIRef(CLV[\"Point\"])))\n",
    "        g.add((Geometry, CLV[\"lat\"], Literal(latitude, datatype=XSD.double)))\n",
    "        g.add((Geometry, CLV[\"long\"], Literal(longitude, datatype=XSD.double)))\n",
    "\n",
    "        if not pd.isna(altitude):\n",
    "            g.add((Geometry, CLV[\"alt\"], Literal(\n",
    "                altitude, datatype=XSD.double)))\n",
    "\n",
    "        g.add((Address, CLV[\"hasGeometry\"], Geometry))\n",
    "\n",
    "    # Set Address final attributes\n",
    "    g.add((Address, CLV[\"postCode\"], Literal(postCode, datatype=XSD.int)))\n",
    "    g.add((Address, CLV[\"hasCity\"],\n",
    "           URIRef(CITIES[config.get(\"ANNCSU\", \"ontopia_ref\")])))\n"
   ]
  },
  {
   "cell_type": "code",
   "execution_count": null,
   "metadata": {},
   "outputs": [],
   "source": [
    "# Save graph\n",
    "saveGraph(g, \"anncsu\")"
   ]
  }
 ],
 "metadata": {
  "kernelspec": {
   "display_name": "Python 3.10.5 64-bit",
   "language": "python",
   "name": "python3"
  },
  "language_info": {
   "codemirror_mode": {
    "name": "ipython",
    "version": 3
   },
   "file_extension": ".py",
   "mimetype": "text/x-python",
   "name": "python",
   "nbconvert_exporter": "python",
   "pygments_lexer": "ipython3",
   "version": "3.10.5"
  },
  "orig_nbformat": 4,
  "vscode": {
   "interpreter": {
    "hash": "369f2c481f4da34e4445cda3fffd2e751bd1c4d706f27375911949ba6bb62e1c"
   }
  }
 },
 "nbformat": 4,
 "nbformat_minor": 2
}
