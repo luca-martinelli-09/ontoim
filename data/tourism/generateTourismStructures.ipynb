{
 "cells": [
  {
   "cell_type": "markdown",
   "metadata": {},
   "source": [
    "# Tourism Structures and Organizations\n",
    "\n",
    "Generate a Graph for Accomodations, Restaurant etc..."
   ]
  },
  {
   "cell_type": "markdown",
   "metadata": {},
   "source": [
    "### Imports\n",
    "\n",
    "Into utils are stored constants for namespaces, vocabularies and common functions"
   ]
  },
  {
   "cell_type": "code",
   "execution_count": null,
   "metadata": {},
   "outputs": [],
   "source": [
    "# Set autoreload for imported packages\n",
    "\n",
    "%load_ext autoreload\n",
    "%autoreload 2\n"
   ]
  },
  {
   "cell_type": "code",
   "execution_count": null,
   "metadata": {},
   "outputs": [],
   "source": [
    "# Import utils\n",
    "import os\n",
    "import sys\n",
    "\n",
    "rootFolder = os.path.abspath(\n",
    "    os.path.dirname(\n",
    "        os.path.dirname(\n",
    "            os.path.abspath(\"__file__\"))))\n",
    "\n",
    "sys.path.append(rootFolder)\n",
    "\n",
    "from utils import *"
   ]
  },
  {
   "cell_type": "code",
   "execution_count": null,
   "metadata": {},
   "outputs": [],
   "source": [
    "# Imports other required libraries\n",
    "import pandas as pd\n",
    "\n",
    "from rdflib import Literal, RDF, URIRef\n",
    "\n",
    "from rdflib.namespace import XSD, DC, RDF, RDFS, SKOS\n"
   ]
  },
  {
   "cell_type": "code",
   "execution_count": null,
   "metadata": {},
   "outputs": [],
   "source": [
    "config = getConfig(\"../conf.ini\")\n",
    "\n",
    "BASE_URL = config.get(\"API\", \"base_url\")"
   ]
  },
  {
   "cell_type": "markdown",
   "metadata": {},
   "source": [
    "## Graph creation"
   ]
  },
  {
   "cell_type": "code",
   "execution_count": null,
   "metadata": {},
   "outputs": [],
   "source": [
    "g = createGraph()\n",
    "\n",
    "g.bind(\"sm\", SM)\n",
    "g.bind(\"clv\", CLV)\n",
    "g.bind(\"poi\", POI)\n",
    "g.bind(\"cov\", COV)\n",
    "g.bind(\"acco\", ACCO)\n",
    "\n",
    "g.bind(\"acco\", EROGATION_CHANNELS)\n",
    "g.bind(\"orgateco\", ORG_ATECO)\n",
    "g.bind(\"accotype\", ACCO_TYPES)\n",
    "g.bind(\"poiclass\", POI_CLASSIFICATION)\n",
    "\n",
    "g.bind(\"anncsu\", ANNCSU)\n",
    "g.bind(\"trstrc\", TOURISM_STRUCT)"
   ]
  },
  {
   "cell_type": "code",
   "execution_count": null,
   "metadata": {},
   "outputs": [],
   "source": [
    "# Create ANNCSU endpoint, with information about the dataset\n",
    "\n",
    "TourismStructData = URIRef(TOURISM_STRUCT)\n",
    "\n",
    "g.add((TourismStructData, RDF.type, SKOS.ConceptScheme))\n",
    "g.add((TourismStructData, RDFS.label, Literal(\"Strutture ricettive, aziende agricole e ristoranti per turisti\", lang=\"it\")))\n",
    "g.add((TourismStructData, RDFS.label, Literal(\"Accomodation facilities and organizations for tourists\", lang=\"en\")))\n",
    "g.add((TourismStructData, DC.creator, URIRef(\"https://w3id.org/people/lucamartinelli\")))"
   ]
  },
  {
   "cell_type": "code",
   "execution_count": null,
   "metadata": {},
   "outputs": [],
   "source": [
    "# Get the data\n",
    "\n",
    "datasetID = config.get(\"TOURISM_STRUCT\", \"dataset\")\n",
    "\n",
    "# Accomodation facilities\n",
    "tourismStructures = getOpenData(\n",
    "    BASE_URL, datasetID, config.get(\"TOURISM_STRUCT\", \"structures\"), dtype={'IVA': str, 'TELEFONO': str})\n"
   ]
  },
  {
   "cell_type": "code",
   "execution_count": null,
   "metadata": {},
   "outputs": [],
   "source": [
    "# Create emails, phones and websites (to avoid repetitions)\n",
    "\n",
    "allEmails = pd.DataFrame(tourismStructures[\"EMAIL\"]).dropna(\n",
    ").drop_duplicates().set_index([\"EMAIL\"])\n",
    "for email, _ in allEmails.iterrows():\n",
    "    Email = URIRef(TOURISM_STRUCT[\"mail-\" + genNameForID(email)])\n",
    "\n",
    "    g.add((Email, RDF.type, SM[\"Email\"]))\n",
    "    g.add((Email, DC.title, Literal(email, datatype=XSD.string)))\n",
    "\n",
    "    g.add((Email, SKOS.inScheme, TourismStructData))\n",
    "\n",
    "    g.add((Email, SM[\"hasEmailType\"], EROGATION_CHANNELS[\"042\"]))\n",
    "    g.add((Email, SM[\"emailAddress\"], Literal(\n",
    "        \"mailto:\" + email, datatype=XSD.anyURI)))\n",
    "\n",
    "allPhones = pd.DataFrame(tourismStructures[\"TELEFONO\"]).dropna(\n",
    ").drop_duplicates().set_index([\"TELEFONO\"])\n",
    "for phone, _ in allPhones.iterrows():\n",
    "    Telephone = URIRef(TOURISM_STRUCT[\"tel-\" + genNameForID(phone)])\n",
    "\n",
    "    g.add((Telephone, RDF.type, SM[\"Telephone\"]))\n",
    "    g.add((Telephone, DC.title, Literal(phone, datatype=XSD.string)))\n",
    "\n",
    "    g.add((Telephone, SKOS.inScheme, TourismStructData))\n",
    "\n",
    "    g.add((Telephone, SM[\"hasTelephoneType\"],\n",
    "           EROGATION_CHANNELS[\"03\"]))\n",
    "    g.add((Telephone, SM[\"telephoneNumber\"],\n",
    "           Literal(phone, datatype=XSD.string)))\n",
    "\n",
    "allWebsites = pd.DataFrame(tourismStructures[\"SITO\"]).dropna(\n",
    ").drop_duplicates().set_index([\"SITO\"])\n",
    "for website, _ in allWebsites.iterrows():\n",
    "    WebSite = URIRef(TOURISM_STRUCT[\"web-\" + genNameForID(website)])\n",
    "\n",
    "    g.add((WebSite, RDF.type, SM[\"WebSite\"]))\n",
    "    g.add((WebSite, DC.title, Literal(website, datatype=XSD.string)))\n",
    "\n",
    "    g.add((WebSite, SKOS.inScheme, TourismStructData))\n",
    "\n",
    "    g.add((WebSite, SM[\"URL\"],\n",
    "           Literal(website, datatype=XSD.anyURI)))\n"
   ]
  },
  {
   "cell_type": "code",
   "execution_count": null,
   "metadata": {},
   "outputs": [],
   "source": [
    "for i, struct in tourismStructures.iterrows():\n",
    "    name = standardizeName(struct[\"NOME\"])\n",
    "    codAteco = struct[\"COD_ATECO\"].replace(\".\", \"\")\n",
    "\n",
    "    codPOI = struct[\"COD_POI\"]\n",
    "\n",
    "    codAcco = struct[\"COD_ACCO\"]\n",
    "    stars = struct[\"STELLE\"]\n",
    "\n",
    "    vat = struct[\"IVA\"]\n",
    "    phone = struct[\"TELEFONO\"]\n",
    "    email = struct[\"EMAIL\"]\n",
    "    website = struct[\"SITO\"]\n",
    "\n",
    "    # Get address reference\n",
    "    Address = URIRef(\n",
    "        ANNCSU[\"ad-{}-{}\".format(struct[\"PROGR_NAZIONALE\"], struct[\"PROGR_CIVICO\"])])\n",
    "\n",
    "    # Create organization reference\n",
    "    Organization = URIRef(TOURISM_STRUCT[\"org-\" + str(i)])\n",
    "\n",
    "    # Add organization node\n",
    "    g.add((Organization, RDF.type, COV[\"PrivateOrganization\"]))\n",
    "    g.add((Organization, DC.title, Literal(name, datatype=XSD.string)))\n",
    "    \n",
    "    g.add((Organization, SKOS.inScheme, TourismStructData))\n",
    "    g.add((TourismStructData, SKOS.hasTopConcept, Organization))\n",
    "\n",
    "    # Add attributes to organization\n",
    "    g.add((Organization, COV[\"legalName\"], Literal(name, datatype=XSD.string)))\n",
    "    g.add((Organization, CLV[\"hasPrimaryAddress\"], Address))\n",
    "    g.add(\n",
    "        (Organization, COV[\"hasPrivateOrgActivityType\"], ORG_ATECO[codAteco]))\n",
    "\n",
    "    if not pd.isna(vat):\n",
    "        g.add((Organization, COV[\"VATnumber\"],\n",
    "              Literal(vat, datatype=XSD.string)))\n",
    "\n",
    "    # Create accomodation reference\n",
    "    Accomodation = None\n",
    "\n",
    "    if not pd.isna(codAcco):\n",
    "        Accomodation = URIRef(TOURISM_STRUCT[\"acco-\" + str(i)])\n",
    "\n",
    "        # Add accomodation node\n",
    "        g.add((Accomodation, RDF.type, ACCO[\"Accommodation\"]))\n",
    "        g.add((Accomodation, DC.title, Literal(name, datatype=XSD.string)))\n",
    "        \n",
    "        g.add((Accomodation, SKOS.inScheme, TourismStructData))\n",
    "\n",
    "        # Add attributes to accomodation\n",
    "        g.add((Accomodation, POI[\"POIofficialName\"],\n",
    "              Literal(name, datatype=XSD.string)))\n",
    "        g.add((Accomodation, CLV[\"hasAddress\"], Address))\n",
    "        g.add(\n",
    "            (Accomodation, ACCO[\"hasAccommodationTypology\"], ACCO_TYPES[codAcco]))\n",
    "        g.add(\n",
    "            (Accomodation, POI[\"hasPOICategory\"], POI_CLASSIFICATION[codPOI]))\n",
    "        \n",
    "        g.add((Accomodation, ACCO[\"hasAccommodationOwner\"], Organization))\n",
    "\n",
    "    # Create online contact points\n",
    "    if not (pd.isna(phone) and pd.isna(email) and pd.isna(website)):\n",
    "        OnlineContactPoint = URIRef(TOURISM_STRUCT[\"ocp-\" + str(i)])\n",
    "\n",
    "        g.add((OnlineContactPoint, RDF.type, SM[\"OnlineContactPoint\"]))\n",
    "        g.add((OnlineContactPoint, DC.title, Literal(\n",
    "            \"Informazioni di contatto per \" + name, lang=\"it\")))\n",
    "        g.add((OnlineContactPoint, DC.title, Literal(\n",
    "            \"Contact information for \" + name, lang=\"en\")))\n",
    "        \n",
    "        g.add((OnlineContactPoint, SKOS.inScheme, TourismStructData))\n",
    "\n",
    "        if not pd.isna(phone):\n",
    "            Telephone = URIRef(TOURISM_STRUCT[\"tel-\" + genNameForID(phone)])\n",
    "            g.add((OnlineContactPoint, SM[\"hasTelephone\"], Telephone))\n",
    "\n",
    "        if not pd.isna(email):\n",
    "            Email = URIRef(TOURISM_STRUCT[\"mail-\" + genNameForID(email)])\n",
    "            g.add((OnlineContactPoint, SM[\"hasEmail\"], Email))\n",
    "\n",
    "        if not pd.isna(website):\n",
    "            WebSite = URIRef(TOURISM_STRUCT[\"web-\" + genNameForID(website)])\n",
    "            g.add((OnlineContactPoint, SM[\"hasWebSite\"], WebSite))\n",
    "\n",
    "        g.add((Organization, SM[\"hasOnlineContactPoint\"], OnlineContactPoint))\n",
    "\n",
    "        if Accomodation:\n",
    "            g.add(\n",
    "                (Accomodation, SM[\"hasOnlineContactPoint\"], OnlineContactPoint))\n"
   ]
  },
  {
   "cell_type": "code",
   "execution_count": null,
   "metadata": {},
   "outputs": [],
   "source": [
    "# Save graph\n",
    "saveGraph(g, \"tourismStructures\")"
   ]
  }
 ],
 "metadata": {
  "kernelspec": {
   "display_name": "Python 3.10.5 64-bit",
   "language": "python",
   "name": "python3"
  },
  "language_info": {
   "codemirror_mode": {
    "name": "ipython",
    "version": 3
   },
   "file_extension": ".py",
   "mimetype": "text/x-python",
   "name": "python",
   "nbconvert_exporter": "python",
   "pygments_lexer": "ipython3",
   "version": "3.10.5"
  },
  "orig_nbformat": 4,
  "vscode": {
   "interpreter": {
    "hash": "369f2c481f4da34e4445cda3fffd2e751bd1c4d706f27375911949ba6bb62e1c"
   }
  }
 },
 "nbformat": 4,
 "nbformat_minor": 2
}
